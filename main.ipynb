{
 "cells": [
  {
   "cell_type": "code",
   "execution_count": 56,
   "metadata": {},
   "outputs": [],
   "source": [
    "import polars as pl "
   ]
  },
  {
   "cell_type": "code",
   "execution_count": 73,
   "metadata": {},
   "outputs": [
    {
     "name": "stdout",
     "output_type": "stream",
     "text": [
      "Schema({'cs_company_id': String, 'matched_name': String, 'incorp_date': String, 'employees': String, 'creditworthy': String, 'credit_score': Int64, 'credit_limit': Int64, 'sector': String, 'office_type_code': String, 'common_score': String, 'currency': String, 'is_active': Boolean, 'country_code': String, 'estimated_revenue': Float64, 'reg_type': String, 'profit': Float64, 'dbt_ltd': Int64, 'dbt_nltd': String, 'dbt': Int64, 'probability_of_default': Float64, 'ultimate_holding_company_identifier': String, 'ultimate_holding_company': String, 'ultimate_holding_company_country': String, 'common_score_bulk_365': String, 'credit_score_bulk_365': Int64, 'credit_limit_bulk_365': Int64, 'profit_bulk_365': Float64, 'estimated_revenue_bulk_365': Float64, 'dbt_ltd_bulk_365': Int64, 'dbt_nltd_bulk_365': String, 'dbt_bulk_365': Int64, 'probability_of_default_bulk_365': Float64, 'group_structure_count': Int64})\n"
     ]
    }
   ],
   "source": [
    "df = pl.read_csv(\"input_files/20K Financial Data.csv\", infer_schema_length=20000)\n",
    "print(df.schema)\n"
   ]
  },
  {
   "cell_type": "code",
   "execution_count": 91,
   "metadata": {},
   "outputs": [],
   "source": [
    "q1 = (\n",
    "    pl.scan_csv(\"input_files/20K Financial Data.csv\",\n",
    "        schema_overrides={\"credit_score\":pl.Int64,\"credit_limit\":pl.Int64,\"is_active\":pl.Boolean},\n",
    "        infer_schema_length=20000)\n",
    "    .select([ \n",
    "        pl.col(\"cs_company_id\").alias(\"safeNumber\"),\n",
    "        \n",
    "        pl.when(pl.col(\"credit_score\") >= 85)\n",
    "        .then(pl.lit(\"A\"))\n",
    "        .when(pl.col(\"credit_score\").is_between(50, 85))\n",
    "        .then(pl.lit(\"B\"))\n",
    "        .when(pl.col(\"credit_score\").is_between(35, 50))\n",
    "        .then(pl.lit(\"C\"))\n",
    "        .when(pl.col(\"credit_score\").is_between(0, 35))\n",
    "        .then(pl.lit(\"D\"))\n",
    "        .otherwise(pl.lit(\"E\"))\n",
    "        .alias(\"credit_score_type\"),\n",
    "\n",
    "        pl.when(pl.col(\"credit_limit\") >= 250000)\n",
    "        .then(pl.lit(\"A\"))\n",
    "        .when(pl.col(\"credit_limit\").is_between(100000, 250000))\n",
    "        .then(pl.lit(\"B\"))\n",
    "        .when(pl.col(\"credit_limit\").is_between(50000, 100000))\n",
    "        .then(pl.lit(\"C\"))\n",
    "        .when(pl.col(\"credit_limit\") < 50000)\n",
    "        .then(pl.lit(\"D\"))\n",
    "        .otherwise(pl.lit(\"E\"))\n",
    "        .alias(\"credit_limit_type\"),\n",
    "        \n",
    "        pl.when(pl.col(\"credit_limit\") >= 250000)\n",
    "        .then(pl.lit(\"A\"))\n",
    "        .when(pl.col(\"credit_limit\").is_between(100000, 250000))\n",
    "        .then(pl.lit(\"B\"))\n",
    "        .when(pl.col(\"credit_limit\").is_between(50000, 100000))\n",
    "        .then(pl.lit(\"C\"))\n",
    "        .when(pl.col(\"credit_limit\") < 50000)\n",
    "        .then(pl.lit(\"D\"))\n",
    "        .otherwise(pl.lit(\"E\"))\n",
    "        .alias(\"turnover_type\"),\n",
    "        \n",
    "        pl.when(pl.col(\"is_active\")==True)\n",
    "        .then(pl.lit(\"Active\"))\n",
    "        .otherwise(pl.lit(\"Inactive\"))\n",
    "        .alias(\"status\")\n",
    "    ])\n",
    "    .collect()\n",
    ")"
   ]
  },
  {
   "cell_type": "code",
   "execution_count": 93,
   "metadata": {},
   "outputs": [
    {
     "name": "stdout",
     "output_type": "stream",
     "text": [
      "shape: (20_358, 5)\n",
      "┌────────────┬───────────────────┬───────────────────┬───────────────┬────────┐\n",
      "│ safeNumber ┆ credit_score_type ┆ credit_limit_type ┆ turnover_type ┆ status │\n",
      "│ ---        ┆ ---               ┆ ---               ┆ ---           ┆ ---    │\n",
      "│ str        ┆ str               ┆ str               ┆ str           ┆ str    │\n",
      "╞════════════╪═══════════════════╪═══════════════════╪═══════════════╪════════╡\n",
      "│ IE00545762 ┆ E                 ┆ D                 ┆ D             ┆ Active │\n",
      "│ IT07826502 ┆ B                 ┆ D                 ┆ D             ┆ Active │\n",
      "│ IT07826314 ┆ B                 ┆ D                 ┆ D             ┆ Active │\n",
      "│ IT07826766 ┆ B                 ┆ D                 ┆ D             ┆ Active │\n",
      "│ UK13244446 ┆ D                 ┆ D                 ┆ D             ┆ Active │\n",
      "│ …          ┆ …                 ┆ …                 ┆ …             ┆ …      │\n",
      "│ DE20210947 ┆ D                 ┆ D                 ┆ D             ┆ Active │\n",
      "│ DE20227008 ┆ B                 ┆ D                 ┆ D             ┆ Active │\n",
      "│ DE20212022 ┆ B                 ┆ D                 ┆ D             ┆ Active │\n",
      "│ DE20232189 ┆ E                 ┆ D                 ┆ D             ┆ Active │\n",
      "│ DE20234814 ┆ A                 ┆ D                 ┆ D             ┆ Active │\n",
      "└────────────┴───────────────────┴───────────────────┴───────────────┴────────┘\n"
     ]
    }
   ],
   "source": [
    "print(q1)"
   ]
  },
  {
   "cell_type": "code",
   "execution_count": 95,
   "metadata": {},
   "outputs": [],
   "source": [
    "q1.write_json(\"output_files/20K_Financial_Data.json\")"
   ]
  },
  {
   "cell_type": "code",
   "execution_count": 96,
   "metadata": {},
   "outputs": [],
   "source": [
    "q2 = (\n",
    "    pl.scan_csv(\"input_files/30K Financial Data.csv\",\n",
    "        schema_overrides={\"credit_score\":pl.Int64,\"credit_limit\":pl.Int64,\"is_active\":pl.Boolean},\n",
    "        infer_schema_length=20000)\n",
    "    .select([ \n",
    "        pl.col(\"cs_company_id\").alias(\"safeNumber\"),\n",
    "        \n",
    "        pl.when(pl.col(\"credit_score\") >= 85)\n",
    "        .then(pl.lit(\"A\"))\n",
    "        .when(pl.col(\"credit_score\").is_between(50, 85))\n",
    "        .then(pl.lit(\"B\"))\n",
    "        .when(pl.col(\"credit_score\").is_between(35, 50))\n",
    "        .then(pl.lit(\"C\"))\n",
    "        .when(pl.col(\"credit_score\").is_between(0, 35))\n",
    "        .then(pl.lit(\"D\"))\n",
    "        .otherwise(pl.lit(\"E\"))\n",
    "        .alias(\"credit_score_type\"),\n",
    "\n",
    "        pl.when(pl.col(\"credit_limit\") >= 250000)\n",
    "        .then(pl.lit(\"A\"))\n",
    "        .when(pl.col(\"credit_limit\").is_between(100000, 250000))\n",
    "        .then(pl.lit(\"B\"))\n",
    "        .when(pl.col(\"credit_limit\").is_between(50000, 100000))\n",
    "        .then(pl.lit(\"C\"))\n",
    "        .when(pl.col(\"credit_limit\") < 50000)\n",
    "        .then(pl.lit(\"D\"))\n",
    "        .otherwise(pl.lit(\"E\"))\n",
    "        .alias(\"credit_limit_type\"),\n",
    "        \n",
    "        pl.when(pl.col(\"credit_limit\") >= 250000)\n",
    "        .then(pl.lit(\"A\"))\n",
    "        .when(pl.col(\"credit_limit\").is_between(100000, 250000))\n",
    "        .then(pl.lit(\"B\"))\n",
    "        .when(pl.col(\"credit_limit\").is_between(50000, 100000))\n",
    "        .then(pl.lit(\"C\"))\n",
    "        .when(pl.col(\"credit_limit\") < 50000)\n",
    "        .then(pl.lit(\"D\"))\n",
    "        .otherwise(pl.lit(\"E\"))\n",
    "        .alias(\"turnover_type\"),\n",
    "        \n",
    "        pl.when(pl.col(\"is_active\")==True)\n",
    "        .then(pl.lit(\"Active\"))\n",
    "        .otherwise(pl.lit(\"Inactive\"))\n",
    "        .alias(\"status\")\n",
    "    ])\n",
    "    .collect()\n",
    ")"
   ]
  },
  {
   "cell_type": "code",
   "execution_count": 97,
   "metadata": {},
   "outputs": [
    {
     "name": "stdout",
     "output_type": "stream",
     "text": [
      "shape: (30_222, 5)\n",
      "┌────────────┬───────────────────┬───────────────────┬───────────────┬──────────┐\n",
      "│ safeNumber ┆ credit_score_type ┆ credit_limit_type ┆ turnover_type ┆ status   │\n",
      "│ ---        ┆ ---               ┆ ---               ┆ ---           ┆ ---      │\n",
      "│ str        ┆ str               ┆ str               ┆ str           ┆ str      │\n",
      "╞════════════╪═══════════════════╪═══════════════════╪═══════════════╪══════════╡\n",
      "│ BE02346548 ┆ B                 ┆ D                 ┆ D             ┆ Active   │\n",
      "│ LU00427327 ┆ E                 ┆ D                 ┆ D             ┆ Active   │\n",
      "│ BE02876691 ┆ B                 ┆ D                 ┆ D             ┆ Active   │\n",
      "│ IT08840110 ┆ C                 ┆ D                 ┆ D             ┆ Active   │\n",
      "│ LU00407587 ┆ B                 ┆ C                 ┆ C             ┆ Active   │\n",
      "│ …          ┆ …                 ┆ …                 ┆ …             ┆ …        │\n",
      "│ UK17249409 ┆ B                 ┆ D                 ┆ D             ┆ Active   │\n",
      "│ LU00210513 ┆ E                 ┆ D                 ┆ D             ┆ Inactive │\n",
      "│ IT08262665 ┆ C                 ┆ D                 ┆ D             ┆ Active   │\n",
      "│ IT08384348 ┆ C                 ┆ D                 ┆ D             ┆ Active   │\n",
      "│ BE02635445 ┆ D                 ┆ D                 ┆ D             ┆ Active   │\n",
      "└────────────┴───────────────────┴───────────────────┴───────────────┴──────────┘\n"
     ]
    }
   ],
   "source": [
    "print(q2)"
   ]
  },
  {
   "cell_type": "code",
   "execution_count": 98,
   "metadata": {},
   "outputs": [],
   "source": [
    "q2.write_json(\"output_files/30K_Finanacial_Data.json\")"
   ]
  }
 ],
 "metadata": {
  "kernelspec": {
   "display_name": "Python 3",
   "language": "python",
   "name": "python3"
  },
  "language_info": {
   "codemirror_mode": {
    "name": "ipython",
    "version": 3
   },
   "file_extension": ".py",
   "mimetype": "text/x-python",
   "name": "python",
   "nbconvert_exporter": "python",
   "pygments_lexer": "ipython3",
   "version": "3.13.1"
  }
 },
 "nbformat": 4,
 "nbformat_minor": 2
}
