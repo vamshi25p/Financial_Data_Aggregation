{
 "cells": [
  {
   "cell_type": "code",
   "execution_count": 3,
   "metadata": {},
   "outputs": [],
   "source": [
    "import polars as pl "
   ]
  },
  {
   "cell_type": "code",
   "execution_count": 4,
   "metadata": {},
   "outputs": [],
   "source": [
    "data_lf = pl.scan_csv(\"input_files/20K Financial Data.csv\", ignore_errors=True)"
   ]
  },
  {
   "cell_type": "code",
   "execution_count": 5,
   "metadata": {},
   "outputs": [],
   "source": [
    "def generate_rating_json(data_lf): \n",
    "    rating_lf= data_lf.select([ \n",
    "        pl.col(\"cs_company_id\").alias(\"safeNumber\"),\n",
    "        \n",
    "        pl.col(\"credit_score\").map_elements(\n",
    "        lambda x: \"A\" if x >= 85 else\n",
    "                  \"B\" if 50 <= x < 85 else\n",
    "                  \"C\" if 35 <= x < 50 else\n",
    "                  \"D\" if 0 <= x < 35 else\n",
    "                  \"E\"\n",
    "        ,return_dtype=pl.String).alias(\"credit_score_type\"),\n",
    "\n",
    "        pl.col(\"credit_limit\").map_elements(\n",
    "        lambda x: \"A\" if x >= 250000 else\n",
    "                  \"B\" if 100000 <= x < 250000 else\n",
    "                  \"C\" if 50000 <= x < 100000 else\n",
    "                  \"D\" if x < 50000 else\n",
    "                  \"E\",return_dtype=pl.String\n",
    "        )   \n",
    "        .alias(\"credit_limit_type\"),\n",
    "        \n",
    "        pl.col(\"credit_limit\").map_elements(\n",
    "        lambda x: \"A\" if x >= 250000 else\n",
    "                  \"B\" if 100000 <= x < 250000 else\n",
    "                  \"C\" if 50000 <= x < 100000 else\n",
    "                  \"D\" if x < 50000 else\n",
    "                  \"E\",return_dtype=pl.String\n",
    "        )   \n",
    "        .alias(\"turnover_type\"),\n",
    "        \n",
    "        pl.col(\"is_active\")\n",
    "        .map_elements(lambda x: \"Active\" if x else \"Inactive\",return_dtype=pl.String)\n",
    "        .alias(\"status\"),\n",
    "        \n",
    "        pl.col(\"country_code\")\n",
    "    ])\n",
    "    \n",
    "    return rating_lf  "
   ]
  },
  {
   "cell_type": "code",
   "execution_count": 6,
   "metadata": {},
   "outputs": [],
   "source": [
    "def generate_aggre_json(rating_lf): \n",
    "    generate_aggre_lf=rating_lf.group_by(\"country_code\").agg(\n",
    "        pl.len().alias(\"companies_count\"),\n",
    "        \n",
    "        pl.col(\"status\")\n",
    "        .filter(pl.col(\"status\")==\"Active\")\n",
    "        .count()\n",
    "        .alias(\"active_companies_count\"),\n",
    "        \n",
    "\n",
    "        pl.col(\"status\")\n",
    "        .filter(pl.col(\"status\")==\"Inactive\")\n",
    "        .count()\n",
    "        .alias(\"inactive_companies_count\"),\n",
    "    ).sort(\"companies_count\",descending=True)\n",
    "    \n",
    "    return generate_aggre_lf"
   ]
  },
  {
   "cell_type": "code",
   "execution_count": 7,
   "metadata": {},
   "outputs": [],
   "source": [
    "rating_lf = generate_rating_json(data_lf)\n",
    "aggre_lf=generate_aggre_json(rating_lf)"
   ]
  },
  {
   "cell_type": "code",
   "execution_count": 8,
   "metadata": {},
   "outputs": [],
   "source": [
    "rating_lf.collect().write_csv(\"output_files/company_ratings.csv\")"
   ]
  },
  {
   "cell_type": "code",
   "execution_count": 13,
   "metadata": {},
   "outputs": [],
   "source": [
    "aggre_lf.collect().write_json(\"output_files/company_aggregations.json\")"
   ]
  },
  {
   "cell_type": "code",
   "execution_count": 9,
   "metadata": {},
   "outputs": [],
   "source": [
    "\n",
    "payload = {\n",
    "    \"rating_data\": rating_lf.collect(),\n",
    "    \"aggregation_data\": aggre_lf.collect()\n",
    "}"
   ]
  },
  {
   "cell_type": "code",
   "execution_count": 12,
   "metadata": {},
   "outputs": [
    {
     "name": "stdout",
     "output_type": "stream",
     "text": [
      "{'rating_data': shape: (20_358, 6)\n",
      "┌────────────┬───────────────────┬───────────────────┬───────────────┬────────┬──────────────┐\n",
      "│ safeNumber ┆ credit_score_type ┆ credit_limit_type ┆ turnover_type ┆ status ┆ country_code │\n",
      "│ ---        ┆ ---               ┆ ---               ┆ ---           ┆ ---    ┆ ---          │\n",
      "│ str        ┆ str               ┆ str               ┆ str           ┆ str    ┆ str          │\n",
      "╞════════════╪═══════════════════╪═══════════════════╪═══════════════╪════════╪══════════════╡\n",
      "│ IE00545762 ┆ E                 ┆ D                 ┆ D             ┆ Active ┆ IE           │\n",
      "│ IT07826502 ┆ B                 ┆ D                 ┆ D             ┆ Active ┆ IT           │\n",
      "│ IT07826314 ┆ B                 ┆ D                 ┆ D             ┆ Active ┆ IT           │\n",
      "│ IT07826766 ┆ B                 ┆ D                 ┆ D             ┆ Active ┆ IT           │\n",
      "│ UK13244446 ┆ D                 ┆ D                 ┆ D             ┆ Active ┆ GB           │\n",
      "│ …          ┆ …                 ┆ …                 ┆ …             ┆ …      ┆ …            │\n",
      "│ DE20210947 ┆ D                 ┆ D                 ┆ D             ┆ Active ┆ DE           │\n",
      "│ DE20227008 ┆ B                 ┆ D                 ┆ D             ┆ Active ┆ DE           │\n",
      "│ DE20212022 ┆ B                 ┆ D                 ┆ D             ┆ Active ┆ DE           │\n",
      "│ DE20232189 ┆ E                 ┆ D                 ┆ D             ┆ Active ┆ DE           │\n",
      "│ DE20234814 ┆ A                 ┆ D                 ┆ D             ┆ Active ┆ DE           │\n",
      "└────────────┴───────────────────┴───────────────────┴───────────────┴────────┴──────────────┘, 'aggregation_data': shape: (7, 4)\n",
      "┌──────────────┬─────────────────┬────────────────────────┬──────────────────────────┐\n",
      "│ country_code ┆ companies_count ┆ active_companies_count ┆ inactive_companies_count │\n",
      "│ ---          ┆ ---             ┆ ---                    ┆ ---                      │\n",
      "│ str          ┆ u32             ┆ u32                    ┆ u32                      │\n",
      "╞══════════════╪═════════════════╪════════════════════════╪══════════════════════════╡\n",
      "│ IT           ┆ 7164            ┆ 6807                   ┆ 357                      │\n",
      "│ DE           ┆ 7015            ┆ 6855                   ┆ 160                      │\n",
      "│ BE           ┆ 5987            ┆ 5743                   ┆ 244                      │\n",
      "│ GB           ┆ 105             ┆ 103                    ┆ 2                        │\n",
      "│ IE           ┆ 65              ┆ 65                     ┆ 0                        │\n",
      "│ DK           ┆ 13              ┆ 11                     ┆ 2                        │\n",
      "│ NL           ┆ 9               ┆ 3                      ┆ 6                        │\n",
      "└──────────────┴─────────────────┴────────────────────────┴──────────────────────────┘}\n"
     ]
    }
   ],
   "source": [
    "print(payload)"
   ]
  },
  {
   "cell_type": "code",
   "execution_count": null,
   "metadata": {},
   "outputs": [],
   "source": []
  }
 ],
 "metadata": {
  "kernelspec": {
   "display_name": "Python 3",
   "language": "python",
   "name": "python3"
  },
  "language_info": {
   "codemirror_mode": {
    "name": "ipython",
    "version": 3
   },
   "file_extension": ".py",
   "mimetype": "text/x-python",
   "name": "python",
   "nbconvert_exporter": "python",
   "pygments_lexer": "ipython3",
   "version": "3.13.1"
  }
 },
 "nbformat": 4,
 "nbformat_minor": 2
}
